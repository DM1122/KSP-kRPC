{
 "cells": [
  {
   "cell_type": "code",
   "execution_count": 1,
   "metadata": {},
   "outputs": [
    {
     "data": {
      "text/latex": [
       "$\\displaystyle m{\\left(t \\right)} \\frac{d^{2}}{d t^{2}} x{\\left(t \\right)} = - g m{\\left(t \\right)} + \\operatorname{F_{T}}{\\left(t \\right)}$"
      ],
      "text/plain": [
       "Eq(m(t)*Derivative(x(t), (t, 2)), -g*m(t) + F_T(t))"
      ]
     },
     "metadata": {},
     "output_type": "display_data"
    }
   ],
   "source": [
    "import sympy as sy\n",
    "from IPython.display import display\n",
    "from main import sympy_addons as sya\n",
    "\n",
    "# from sympy.physics.mechanics import dynamicsymbols\n",
    "\n",
    "# symbols\n",
    "t = sy.Symbol(\"t\", real=True, positive=True)  # time\n",
    "tau = sy.Symbol(\"tau\", real=True, positive=True)\n",
    "# s = sy.Symbol(\"s\", real=True, positive=True)\n",
    "g = sy.Symbol(\"g\", real=True)  # gravity\n",
    "\n",
    "# x = sy.Symbol(\"x\", real=True) # position\n",
    "# m = sy.Symbol(\"m\", real=True) # mass\n",
    "\n",
    "# dynamic symbols\n",
    "# x = sy.physics.mechanics.dynamicsymbols(\"x\")\n",
    "# m = sy.physics.mechanics.dynamicsymbols(\"m\")\n",
    "\n",
    "# functions\n",
    "x = sy.Function(\"x\")(t)\n",
    "m = sy.Function(\"m\")(t)\n",
    "F_T = sy.Function(\"F_T\")(t)\n",
    "\n",
    "# model\n",
    "model = sy.Eq(m * x.diff(t, 2), F_T - m * g)\n",
    "display(model)\n",
    "# model = model.rhs - model.lhs\n",
    "# display(model)"
   ]
  },
  {
   "cell_type": "markdown",
   "metadata": {},
   "source": [
    "Define $m(t)$"
   ]
  },
  {
   "cell_type": "code",
   "execution_count": 2,
   "metadata": {},
   "outputs": [
    {
     "data": {
      "text/latex": [
       "$\\displaystyle - b \\int\\limits_{0}^{t} \\operatorname{F_{T}}{\\left(\\tau \\right)}\\, d\\tau + m_{0}$"
      ],
      "text/plain": [
       "-b*Integral(F_T(tau), (tau, 0, t)) + m_0"
      ]
     },
     "metadata": {},
     "output_type": "display_data"
    }
   ],
   "source": [
    "b = sy.Symbol(\"b\", real=True, positive=True)  # specific thrust\n",
    "m_0 = sy.Symbol(\"m_0\", real=True, positive=True)  # initial mass\n",
    "\n",
    "m2 = m_0 - sy.integrate(b * F_T.subs(t, tau), (tau, 0, t))\n",
    "display(m2)"
   ]
  },
  {
   "cell_type": "markdown",
   "metadata": {},
   "source": [
    "Substitute $m(t)$ into model"
   ]
  },
  {
   "cell_type": "code",
   "execution_count": 3,
   "metadata": {},
   "outputs": [
    {
     "data": {
      "text/latex": [
       "$\\displaystyle \\left(- b \\int\\limits_{0}^{t} \\operatorname{F_{T}}{\\left(\\tau \\right)}\\, d\\tau + m_{0}\\right) \\frac{d^{2}}{d t^{2}} x{\\left(t \\right)} = - g \\left(- b \\int\\limits_{0}^{t} \\operatorname{F_{T}}{\\left(\\tau \\right)}\\, d\\tau + m_{0}\\right) + \\operatorname{F_{T}}{\\left(t \\right)}$"
      ],
      "text/plain": [
       "Eq((-b*Integral(F_T(tau), (tau, 0, t)) + m_0)*Derivative(x(t), (t, 2)), -g*(-b*Integral(F_T(tau), (tau, 0, t)) + m_0) + F_T(t))"
      ]
     },
     "metadata": {},
     "output_type": "display_data"
    }
   ],
   "source": [
    "model_2 = model.subs(m, m2)\n",
    "display(model_2)"
   ]
  },
  {
   "cell_type": "markdown",
   "metadata": {},
   "source": [
    "Take the Laplace transform of the model"
   ]
  },
  {
   "cell_type": "code",
   "execution_count": 4,
   "metadata": {},
   "outputs": [
    {
     "data": {
      "text/latex": [
       "$\\displaystyle - g \\left(- b \\int\\limits_{0}^{t} \\operatorname{F_{T}}{\\left(\\tau \\right)}\\, d\\tau + m_{0}\\right) - \\left(- b \\int\\limits_{0}^{t} \\operatorname{F_{T}}{\\left(\\tau \\right)}\\, d\\tau + m_{0}\\right) \\frac{d^{2}}{d t^{2}} x{\\left(t \\right)} + \\operatorname{F_{T}}{\\left(t \\right)}$"
      ],
      "text/plain": [
       "-g*(-b*Integral(F_T(tau), (tau, 0, t)) + m_0) - (-b*Integral(F_T(tau), (tau, 0, t)) + m_0)*Derivative(x(t), (t, 2)) + F_T(t)"
      ]
     },
     "metadata": {},
     "output_type": "display_data"
    }
   ],
   "source": [
    "model_3 = model_2.rhs - model_2.lhs\n",
    "display(model_3)"
   ]
  },
  {
   "cell_type": "code",
   "execution_count": 5,
   "metadata": {},
   "outputs": [
    {
     "data": {
      "text/plain": [
       "((b*g*Integral(F_T(tau), (tau, 0, t)) + b*Derivative(x(t), (t, 2))*Integral(F_T(tau), (tau, 0, t)) - g*m_0 - m_0*Derivative(x(t), (t, 2)) + F_T(t))/s,\n",
       " 0,\n",
       " True)"
      ]
     },
     "metadata": {},
     "output_type": "display_data"
    }
   ],
   "source": [
    "model_L = sya.L(model_3)\n",
    "display(model_L)"
   ]
  }
 ],
 "metadata": {
  "interpreter": {
   "hash": "b63be74dc3575cd224d73a5c7052779a94f5fd022fe919d1b214ef11964dfb48"
  },
  "kernelspec": {
   "display_name": "Python 3.10.4 ('.venv': poetry)",
   "language": "python",
   "name": "python3"
  },
  "language_info": {
   "codemirror_mode": {
    "name": "ipython",
    "version": 3
   },
   "file_extension": ".py",
   "mimetype": "text/x-python",
   "name": "python",
   "nbconvert_exporter": "python",
   "pygments_lexer": "ipython3",
   "version": "3.10.4"
  },
  "orig_nbformat": 4
 },
 "nbformat": 4,
 "nbformat_minor": 2
}

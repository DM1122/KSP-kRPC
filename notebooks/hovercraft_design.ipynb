{
 "cells": [
  {
   "cell_type": "markdown",
   "metadata": {},
   "source": [
    "# Hovercraft Controller Design"
   ]
  },
  {
   "cell_type": "code",
   "execution_count": 1,
   "metadata": {},
   "outputs": [],
   "source": [
    "# external\n",
    "import sympy as sy\n",
    "from IPython.display import display\n",
    "\n",
    "# project\n",
    "from main.libs import sympylib as sylib"
   ]
  },
  {
   "cell_type": "markdown",
   "metadata": {},
   "source": [
    "## Constant Mass Model\n",
    "We initially assume constant mass to get our feet wet."
   ]
  },
  {
   "cell_type": "code",
   "execution_count": 2,
   "metadata": {},
   "outputs": [],
   "source": [
    "# symbols\n",
    "t = sy.Symbol(\"t\", real=True, positive=True)  # time\n",
    "g = sy.Symbol(\"g\", real=True, positive=True)  #  # gravity\n",
    "b = sy.Symbol(\"b\", real=True)  #  # drag coefficient\n",
    "m = sy.Symbol(\"m\", real=True, positive=True)  #  # mass\n",
    "F_net = sy.Symbol(\"F_net\", real=True)  # net force\n",
    "F_d = sy.Symbol(\"F_d\", real=True)  # drag force\n",
    "F_g = sy.Symbol(\"F_g\", real=True, positive=False)  #  # gravity force\n",
    "\n",
    "# functions\n",
    "x = sy.Function(\"x\", real=True)(t)  # altitude\n",
    "F_t = sy.Function(\"F_t\", real=True, positive=True)(t)  # thrust force"
   ]
  },
  {
   "cell_type": "markdown",
   "metadata": {},
   "source": [
    "The governing equation of motion is given by the following."
   ]
  },
  {
   "cell_type": "code",
   "execution_count": 3,
   "metadata": {},
   "outputs": [
    {
     "data": {
      "text/latex": [
       "$\\displaystyle F_{net} = - F_{d} - F_{g} + \\operatorname{F_{t}}{\\left(t \\right)}$"
      ],
      "text/plain": [
       "Eq(F_net, -F_d - F_g + F_t(t))"
      ]
     },
     "metadata": {},
     "output_type": "display_data"
    }
   ],
   "source": [
    "model = sy.Eq(F_net, F_t - F_d - F_g)\n",
    "display(model)"
   ]
  },
  {
   "cell_type": "code",
   "execution_count": 4,
   "metadata": {},
   "outputs": [
    {
     "data": {
      "text/latex": [
       "$\\displaystyle m \\frac{d^{2}}{d t^{2}} x{\\left(t \\right)} = - b \\frac{d}{d t} x{\\left(t \\right)} - g m + \\operatorname{F_{t}}{\\left(t \\right)}$"
      ],
      "text/plain": [
       "Eq(m*Derivative(x(t), (t, 2)), -b*Derivative(x(t), t) - g*m + F_t(t))"
      ]
     },
     "metadata": {},
     "output_type": "display_data"
    }
   ],
   "source": [
    "model = model.subs({F_net: m * x.diff(t, 2), F_d: b * x.diff(t), F_g: m * g})\n",
    "display(model)"
   ]
  },
  {
   "cell_type": "code",
   "execution_count": 5,
   "metadata": {},
   "outputs": [
    {
     "data": {
      "text/latex": [
       "$\\displaystyle \\frac{d^{2}}{d t^{2}} x{\\left(t \\right)} = - \\frac{b \\frac{d}{d t} x{\\left(t \\right)}}{m} - g + \\frac{\\operatorname{F_{t}}{\\left(t \\right)}}{m}$"
      ],
      "text/plain": [
       "Eq(Derivative(x(t), (t, 2)), -b*Derivative(x(t), t)/m - g + F_t(t)/m)"
      ]
     },
     "metadata": {},
     "output_type": "display_data"
    }
   ],
   "source": [
    "model = sylib.solve_eq(eq=model, symbol=x.diff(t, 2)).expand()\n",
    "display(model)"
   ]
  },
  {
   "cell_type": "markdown",
   "metadata": {},
   "source": [
    "The thrust force is controlled according to some throttle value $\\alpha(t)$ between 0 and 1.\n",
    "\n",
    "\\begin{equation*}\n",
    "    F_t(t) = \\alpha(t) F_\\text{t,max}\n",
    "\\end{equation*}"
   ]
  },
  {
   "cell_type": "code",
   "execution_count": 13,
   "metadata": {},
   "outputs": [
    {
     "data": {
      "text/latex": [
       "$\\displaystyle \\frac{d^{2}}{d t^{2}} x{\\left(t \\right)} = \\frac{F_{t,max} \\alpha{\\left(t \\right)}}{m} - \\frac{b \\frac{d}{d t} x{\\left(t \\right)}}{m} - g$"
      ],
      "text/plain": [
       "Eq(Derivative(x(t), (t, 2)), F_t,max*alpha(t)/m - b*Derivative(x(t), t)/m - g)"
      ]
     },
     "metadata": {},
     "output_type": "display_data"
    },
    {
     "name": "stdout",
     "output_type": "stream",
     "text": [
      "Eq(Derivative(x(t), (t, 2)), F_t,max*alpha(t)/m - b*Derivative(x(t), t)/m - g)\n"
     ]
    }
   ],
   "source": [
    "a = sy.Function(\"alpha\", real=True, positive=True)(t)  # throttle\n",
    "F_t_max = sy.Symbol(\"F_t,max\", real=True, positive=True)  # max thrust force\n",
    "\n",
    "model = model.subs({F_t: a * F_t_max})\n",
    "display(model)\n",
    "print(model)"
   ]
  },
  {
   "cell_type": "markdown",
   "metadata": {},
   "source": [
    "Solving for position."
   ]
  },
  {
   "cell_type": "code",
   "execution_count": 10,
   "metadata": {},
   "outputs": [
    {
     "data": {
      "text/latex": [
       "$\\displaystyle x{\\left(t \\right)} = \\frac{F_{t,max} \\int \\alpha{\\left(t \\right)}\\, dt}{b} - \\frac{F_{t,max} \\int\\limits^{0} \\alpha{\\left(t \\right)}\\, dt}{b} + x_{0} + \\left(- \\frac{F_{t,max} \\int \\alpha{\\left(t \\right)} e^{\\frac{b t}{m}}\\, dt}{b} + \\frac{F_{t,max} \\int\\limits^{0} \\alpha{\\left(t \\right)} e^{\\frac{b t}{m}}\\, dt}{b} - \\frac{m v_{0}}{b} - \\frac{\\begin{cases} \\frac{g m^{2}}{b} & \\text{for}\\: b \\neq 0 \\\\0 & \\text{otherwise} \\end{cases}}{b} + \\frac{\\begin{cases} \\frac{g m^{2} e^{\\frac{b t}{m}}}{b} & \\text{for}\\: b \\neq 0 \\\\g m t & \\text{otherwise} \\end{cases}}{b}\\right) e^{- \\frac{b t}{m}} - \\frac{g m t}{b} + \\frac{m v_{0}}{b}$"
      ],
      "text/plain": [
       "Eq(x(t), F_t,max*Integral(alpha(t), t)/b - F_t,max*Integral(alpha(t), (t, 0))/b + x_0 + (-F_t,max*Integral(alpha(t)*exp(b*t/m), t)/b + F_t,max*Integral(alpha(t)*exp(b*t/m), (t, 0))/b - m*v_0/b - Piecewise((g*m**2/b, Ne(b, 0)), (0, True))/b + Piecewise((g*m**2*exp(b*t/m)/b, Ne(b, 0)), (g*m*t, True))/b)*exp(-b*t/m) - g*m*t/b + m*v_0/b)"
      ]
     },
     "metadata": {},
     "output_type": "display_data"
    },
    {
     "name": "stdout",
     "output_type": "stream",
     "text": [
      "Eq(x(t), F_t,max*Integral(alpha(t), t)/b - F_t,max*Integral(alpha(t), (t, 0))/b + x_0 + (-F_t,max*Integral(alpha(t)*exp(b*t/m), t)/b + F_t,max*Integral(alpha(t)*exp(b*t/m), (t, 0))/b - m*v_0/b - Piecewise((g*m**2/b, Ne(b, 0)), (0, True))/b + Piecewise((g*m**2*exp(b*t/m)/b, Ne(b, 0)), (g*m*t, True))/b)*exp(-b*t/m) - g*m*t/b + m*v_0/b)\n"
     ]
    }
   ],
   "source": [
    "x_0 = sy.Symbol(\"x_0\")  # initial altitude\n",
    "v_0 = sy.Symbol(\"v_0\")  # initial velocity\n",
    "\n",
    "model_soln = sy.dsolve(model, x, ics={x.subs(t, 0): x_0, x.diff(t).subs(t, 0): v_0})\n",
    "display(model_soln)\n",
    "print(model_soln)"
   ]
  },
  {
   "cell_type": "markdown",
   "metadata": {},
   "source": [
    "Apply test values and plot. Useful for validating the numerical model."
   ]
  },
  {
   "cell_type": "code",
   "execution_count": 12,
   "metadata": {},
   "outputs": [
    {
     "data": {
      "image/png": "[encoded data removed]",
      "text/plain": [
       "<Figure size 432x288 with 1 Axes>"
      ]
     },
     "metadata": {
      "needs_background": "light"
     },
     "output_type": "display_data"
    },
    {
     "name": "stdout",
     "output_type": "stream",
     "text": [
      "{F_t,max: 10, b: 0.1, g: 9.81, m: 1, x_0: 0, v_0: 0, alpha(t): 1}\n"
     ]
    },
    {
     "data": {
      "text/latex": [
       "$\\displaystyle x{\\left(t \\right)} = 1.89999999999999 t + \\left(19.0 - 19.0 e^{0.1 t}\\right) e^{- 0.1 t}$"
      ],
      "text/plain": [
       "Eq(x(t), 1.89999999999999*t + (19.0 - 19.0*exp(0.1*t))*exp(-0.1*t))"
      ]
     },
     "metadata": {},
     "output_type": "display_data"
    }
   ],
   "source": [
    "params = {F_t_max: 10, b: 0.1, g: 9.81, m: 1, x_0: 0, v_0: 0, a: 1}\n",
    "model_soln_eval = model_soln.subs(params).doit()\n",
    "\n",
    "sy.plotting.plot(\n",
    "    model_soln_eval.rhs,\n",
    "    (t, 0, 10),\n",
    "    title=\"Altitude over time for constant mass\",\n",
    "    xlabel=\"$t$\",\n",
    "    ylabel=\"$x(t)$\",\n",
    ")\n",
    "print(params)\n",
    "display(model_soln_eval)"
   ]
  },
  {
   "cell_type": "markdown",
   "metadata": {},
   "source": [
    "## Non-Constant Mass Model"
   ]
  },
  {
   "cell_type": "markdown",
   "metadata": {},
   "source": [
    "More true to life is a non-constant mass model. The mass of the craft is depleted as fuel is consumed. We define the mass at any given time as:\n",
    "\n",
    "\\begin{equation}\n",
    "    m(t) = m_\\text{wet} - \\int_{0}^{t} \\gamma F_t(\\tau) d\\tau\n",
    "\\end{equation}\n",
    "\n",
    "\\begin{equation}\n",
    "    F_t(t) = \n",
    "    \\begin{cases}\n",
    "        \\alpha(t) F_{t,\\text{max}} & m(t) > {m_\\text{dry}} \\\\\n",
    "        0 & m(t) \\leq m_\\text{dry}\n",
    "    \\end{cases}\n",
    "\\end{equation}\n",
    "\n",
    "Where $m_\\text{wet}$ is the initial or wet mass that includes the mass of the craft and its fuel, and $\\gamma$ is the specific thrust (the mass loss rate per unit thrust)."
   ]
  },
  {
   "cell_type": "code",
   "execution_count": 7,
   "metadata": {},
   "outputs": [],
   "source": [
    "# symbols\n",
    "tau = sy.Symbol(\"tau\", real=True, positive=True)  # alias for time\n",
    "m_0 = sy.Symbol(\"m_0\", real=True, positive=True)  # initial mass\n",
    "gamma = sy.Symbol(\"gamma\", real=True, positive=True)  # specific thrust"
   ]
  },
  {
   "cell_type": "code",
   "execution_count": 8,
   "metadata": {},
   "outputs": [
    {
     "data": {
      "text/latex": [
       "$\\displaystyle \\frac{d^{2}}{d t^{2}} x{\\left(t \\right)} = \\frac{F_{t,max} \\alpha{\\left(t \\right)}}{- \\gamma \\int\\limits_{0}^{t} \\operatorname{F_{t}}{\\left(\\tau \\right)}\\, d\\tau + m_{0}} - \\frac{b \\frac{d}{d t} x{\\left(t \\right)}}{- \\gamma \\int\\limits_{0}^{t} \\operatorname{F_{t}}{\\left(\\tau \\right)}\\, d\\tau + m_{0}} - g$"
      ],
      "text/plain": [
       "Eq(Derivative(x(t), (t, 2)), F_t,max*alpha(t)/(-gamma*Integral(F_t(tau), (tau, 0, t)) + m_0) - b*Derivative(x(t), t)/(-gamma*Integral(F_t(tau), (tau, 0, t)) + m_0) - g)"
      ]
     },
     "metadata": {},
     "output_type": "display_data"
    }
   ],
   "source": [
    "model_2 = model.subs(m, m_0 - sy.integrate(gamma * F_t.subs(t, tau), (tau, 0, t)))\n",
    "display(model_2)"
   ]
  },
  {
   "cell_type": "markdown",
   "metadata": {},
   "source": [
    "Solving yeilds:"
   ]
  },
  {
   "cell_type": "code",
   "execution_count": 9,
   "metadata": {},
   "outputs": [
    {
     "ename": "NameError",
     "evalue": "name 'x_0' is not defined",
     "output_type": "error",
     "traceback": [
      "\u001b[1;31m---------------------------------------------------------------------------\u001b[0m",
      "\u001b[1;31mNameError\u001b[0m                                 Traceback (most recent call last)",
      "\u001b[1;32mc:\\Users\\David\\Workbench\\KSP-KRPC\\notebooks\\hovercraft_design.ipynb Cell 16'\u001b[0m in \u001b[0;36m<cell line: 1>\u001b[1;34m()\u001b[0m\n\u001b[1;32m----> <a href='vscode-notebook-cell:/c%3A/Users/David/Workbench/KSP-KRPC/notebooks/hovercraft_design.ipynb#ch0000013?line=0'>1</a>\u001b[0m model_2_soln \u001b[39m=\u001b[39m sy\u001b[39m.\u001b[39mdsolve(model_2, x, ics\u001b[39m=\u001b[39m{x\u001b[39m.\u001b[39msubs(t, \u001b[39m0\u001b[39m): x_0, x\u001b[39m.\u001b[39mdiff(t)\u001b[39m.\u001b[39msubs(t, \u001b[39m0\u001b[39m): v_0})\n\u001b[0;32m      <a href='vscode-notebook-cell:/c%3A/Users/David/Workbench/KSP-KRPC/notebooks/hovercraft_design.ipynb#ch0000013?line=1'>2</a>\u001b[0m display(model_2_soln)\n",
      "\u001b[1;31mNameError\u001b[0m: name 'x_0' is not defined"
     ]
    }
   ],
   "source": [
    "model_2_soln = sy.dsolve(model_2, x, ics={x.subs(t, 0): x_0, x.diff(t).subs(t, 0): v_0})\n",
    "display(model_2_soln)"
   ]
  },
  {
   "cell_type": "code",
   "execution_count": null,
   "metadata": {},
   "outputs": [
    {
     "ename": "TypeError",
     "evalue": "Invalid comparison of non-real zoo",
     "output_type": "error",
     "traceback": [
      "\u001b[1;31m---------------------------------------------------------------------------\u001b[0m",
      "\u001b[1;31mTypeError\u001b[0m                                 Traceback (most recent call last)",
      "\u001b[1;32mc:\\Users\\David\\Workbench\\KSP-KRPC\\notebooks\\hovercraft_design.ipynb Cell 17'\u001b[0m in \u001b[0;36m<cell line: 2>\u001b[1;34m()\u001b[0m\n\u001b[0;32m      <a href='vscode-notebook-cell:/c%3A/Users/David/Workbench/KSP-KRPC/notebooks/hovercraft_design.ipynb#ch0000035?line=0'>1</a>\u001b[0m params_2 \u001b[39m=\u001b[39m {F_t: \u001b[39m10\u001b[39m, b: \u001b[39m0.1\u001b[39m, g: \u001b[39m9.81\u001b[39m, m_0: \u001b[39m1\u001b[39m, gamma: \u001b[39m0.1\u001b[39m, x_0: \u001b[39m0\u001b[39m, v_0: \u001b[39m0\u001b[39m, F_t\u001b[39m.\u001b[39msubs(t,\u001b[39m\"\u001b[39m\u001b[39m_0\u001b[39m\u001b[39m\"\u001b[39m): \u001b[39m10\u001b[39m}\n\u001b[1;32m----> <a href='vscode-notebook-cell:/c%3A/Users/David/Workbench/KSP-KRPC/notebooks/hovercraft_design.ipynb#ch0000035?line=1'>2</a>\u001b[0m model_2_soln_eval \u001b[39m=\u001b[39m model_2_soln\u001b[39m.\u001b[39;49msubs(params_2)\u001b[39m.\u001b[39;49mdoit()\n\u001b[0;32m      <a href='vscode-notebook-cell:/c%3A/Users/David/Workbench/KSP-KRPC/notebooks/hovercraft_design.ipynb#ch0000035?line=3'>4</a>\u001b[0m \u001b[39mprint\u001b[39m(params_2)\n\u001b[0;32m      <a href='vscode-notebook-cell:/c%3A/Users/David/Workbench/KSP-KRPC/notebooks/hovercraft_design.ipynb#ch0000035?line=4'>5</a>\u001b[0m display(model_2_soln_eval)\n",
      "File \u001b[1;32mc:\\Users\\David\\Workbench\\KSP-KRPC\\.venv\\lib\\site-packages\\sympy\\core\\basic.py:1754\u001b[0m, in \u001b[0;36mBasic.doit\u001b[1;34m(self, **hints)\u001b[0m\n\u001b[0;32m   <a href='file:///c%3A/Users/David/Workbench/KSP-KRPC/.venv/lib/site-packages/sympy/core/basic.py?line=1734'>1735</a>\u001b[0m \u001b[39m\"\"\"Evaluate objects that are not evaluated by default like limits,\u001b[39;00m\n\u001b[0;32m   <a href='file:///c%3A/Users/David/Workbench/KSP-KRPC/.venv/lib/site-packages/sympy/core/basic.py?line=1735'>1736</a>\u001b[0m \u001b[39mintegrals, sums and products. All objects of this kind will be\u001b[39;00m\n\u001b[0;32m   <a href='file:///c%3A/Users/David/Workbench/KSP-KRPC/.venv/lib/site-packages/sympy/core/basic.py?line=1736'>1737</a>\u001b[0m \u001b[39mevaluated recursively, unless some species were excluded via 'hints'\u001b[39;00m\n\u001b[1;32m   (...)\u001b[0m\n\u001b[0;32m   <a href='file:///c%3A/Users/David/Workbench/KSP-KRPC/.venv/lib/site-packages/sympy/core/basic.py?line=1750'>1751</a>\u001b[0m \n\u001b[0;32m   <a href='file:///c%3A/Users/David/Workbench/KSP-KRPC/.venv/lib/site-packages/sympy/core/basic.py?line=1751'>1752</a>\u001b[0m \u001b[39m\"\"\"\u001b[39;00m\n\u001b[0;32m   <a href='file:///c%3A/Users/David/Workbench/KSP-KRPC/.venv/lib/site-packages/sympy/core/basic.py?line=1752'>1753</a>\u001b[0m \u001b[39mif\u001b[39;00m hints\u001b[39m.\u001b[39mget(\u001b[39m'\u001b[39m\u001b[39mdeep\u001b[39m\u001b[39m'\u001b[39m, \u001b[39mTrue\u001b[39;00m):\n\u001b[1;32m-> <a href='file:///c%3A/Users/David/Workbench/KSP-KRPC/.venv/lib/site-packages/sympy/core/basic.py?line=1753'>1754</a>\u001b[0m     terms \u001b[39m=\u001b[39m [term\u001b[39m.\u001b[39mdoit(\u001b[39m*\u001b[39m\u001b[39m*\u001b[39mhints) \u001b[39mif\u001b[39;00m \u001b[39misinstance\u001b[39m(term, Basic) \u001b[39melse\u001b[39;00m term\n\u001b[0;32m   <a href='file:///c%3A/Users/David/Workbench/KSP-KRPC/.venv/lib/site-packages/sympy/core/basic.py?line=1754'>1755</a>\u001b[0m                                  \u001b[39mfor\u001b[39;00m term \u001b[39min\u001b[39;00m \u001b[39mself\u001b[39m\u001b[39m.\u001b[39margs]\n\u001b[0;32m   <a href='file:///c%3A/Users/David/Workbench/KSP-KRPC/.venv/lib/site-packages/sympy/core/basic.py?line=1755'>1756</a>\u001b[0m     \u001b[39mreturn\u001b[39;00m \u001b[39mself\u001b[39m\u001b[39m.\u001b[39mfunc(\u001b[39m*\u001b[39mterms)\n\u001b[0;32m   <a href='file:///c%3A/Users/David/Workbench/KSP-KRPC/.venv/lib/site-packages/sympy/core/basic.py?line=1756'>1757</a>\u001b[0m \u001b[39melse\u001b[39;00m:\n",
      "File \u001b[1;32mc:\\Users\\David\\Workbench\\KSP-KRPC\\.venv\\lib\\site-packages\\sympy\\core\\basic.py:1754\u001b[0m, in \u001b[0;36m<listcomp>\u001b[1;34m(.0)\u001b[0m\n\u001b[0;32m   <a href='file:///c%3A/Users/David/Workbench/KSP-KRPC/.venv/lib/site-packages/sympy/core/basic.py?line=1734'>1735</a>\u001b[0m \u001b[39m\"\"\"Evaluate objects that are not evaluated by default like limits,\u001b[39;00m\n\u001b[0;32m   <a href='file:///c%3A/Users/David/Workbench/KSP-KRPC/.venv/lib/site-packages/sympy/core/basic.py?line=1735'>1736</a>\u001b[0m \u001b[39mintegrals, sums and products. All objects of this kind will be\u001b[39;00m\n\u001b[0;32m   <a href='file:///c%3A/Users/David/Workbench/KSP-KRPC/.venv/lib/site-packages/sympy/core/basic.py?line=1736'>1737</a>\u001b[0m \u001b[39mevaluated recursively, unless some species were excluded via 'hints'\u001b[39;00m\n\u001b[1;32m   (...)\u001b[0m\n\u001b[0;32m   <a href='file:///c%3A/Users/David/Workbench/KSP-KRPC/.venv/lib/site-packages/sympy/core/basic.py?line=1750'>1751</a>\u001b[0m \n\u001b[0;32m   <a href='file:///c%3A/Users/David/Workbench/KSP-KRPC/.venv/lib/site-packages/sympy/core/basic.py?line=1751'>1752</a>\u001b[0m \u001b[39m\"\"\"\u001b[39;00m\n\u001b[0;32m   <a href='file:///c%3A/Users/David/Workbench/KSP-KRPC/.venv/lib/site-packages/sympy/core/basic.py?line=1752'>1753</a>\u001b[0m \u001b[39mif\u001b[39;00m hints\u001b[39m.\u001b[39mget(\u001b[39m'\u001b[39m\u001b[39mdeep\u001b[39m\u001b[39m'\u001b[39m, \u001b[39mTrue\u001b[39;00m):\n\u001b[1;32m-> <a href='file:///c%3A/Users/David/Workbench/KSP-KRPC/.venv/lib/site-packages/sympy/core/basic.py?line=1753'>1754</a>\u001b[0m     terms \u001b[39m=\u001b[39m [term\u001b[39m.\u001b[39mdoit(\u001b[39m*\u001b[39m\u001b[39m*\u001b[39mhints) \u001b[39mif\u001b[39;00m \u001b[39misinstance\u001b[39m(term, Basic) \u001b[39melse\u001b[39;00m term\n\u001b[0;32m   <a href='file:///c%3A/Users/David/Workbench/KSP-KRPC/.venv/lib/site-packages/sympy/core/basic.py?line=1754'>1755</a>\u001b[0m                                  \u001b[39mfor\u001b[39;00m term \u001b[39min\u001b[39;00m \u001b[39mself\u001b[39m\u001b[39m.\u001b[39margs]\n\u001b[0;32m   <a href='file:///c%3A/Users/David/Workbench/KSP-KRPC/.venv/lib/site-packages/sympy/core/basic.py?line=1755'>1756</a>\u001b[0m     \u001b[39mreturn\u001b[39;00m \u001b[39mself\u001b[39m\u001b[39m.\u001b[39mfunc(\u001b[39m*\u001b[39mterms)\n\u001b[0;32m   <a href='file:///c%3A/Users/David/Workbench/KSP-KRPC/.venv/lib/site-packages/sympy/core/basic.py?line=1756'>1757</a>\u001b[0m \u001b[39melse\u001b[39;00m:\n",
      "File \u001b[1;32mc:\\Users\\David\\Workbench\\KSP-KRPC\\.venv\\lib\\site-packages\\sympy\\core\\operations.py:455\u001b[0m, in \u001b[0;36mAssocOp.doit\u001b[1;34m(self, **hints)\u001b[0m\n\u001b[0;32m    <a href='file:///c%3A/Users/David/Workbench/KSP-KRPC/.venv/lib/site-packages/sympy/core/operations.py?line=452'>453</a>\u001b[0m \u001b[39mdef\u001b[39;00m \u001b[39mdoit\u001b[39m(\u001b[39mself\u001b[39m, \u001b[39m*\u001b[39m\u001b[39m*\u001b[39mhints):\n\u001b[0;32m    <a href='file:///c%3A/Users/David/Workbench/KSP-KRPC/.venv/lib/site-packages/sympy/core/operations.py?line=453'>454</a>\u001b[0m     \u001b[39mif\u001b[39;00m hints\u001b[39m.\u001b[39mget(\u001b[39m'\u001b[39m\u001b[39mdeep\u001b[39m\u001b[39m'\u001b[39m, \u001b[39mTrue\u001b[39;00m):\n\u001b[1;32m--> <a href='file:///c%3A/Users/David/Workbench/KSP-KRPC/.venv/lib/site-packages/sympy/core/operations.py?line=454'>455</a>\u001b[0m         terms \u001b[39m=\u001b[39m [term\u001b[39m.\u001b[39mdoit(\u001b[39m*\u001b[39m\u001b[39m*\u001b[39mhints) \u001b[39mfor\u001b[39;00m term \u001b[39min\u001b[39;00m \u001b[39mself\u001b[39m\u001b[39m.\u001b[39margs]\n\u001b[0;32m    <a href='file:///c%3A/Users/David/Workbench/KSP-KRPC/.venv/lib/site-packages/sympy/core/operations.py?line=455'>456</a>\u001b[0m     \u001b[39melse\u001b[39;00m:\n\u001b[0;32m    <a href='file:///c%3A/Users/David/Workbench/KSP-KRPC/.venv/lib/site-packages/sympy/core/operations.py?line=456'>457</a>\u001b[0m         terms \u001b[39m=\u001b[39m \u001b[39mself\u001b[39m\u001b[39m.\u001b[39margs\n",
      "File \u001b[1;32mc:\\Users\\David\\Workbench\\KSP-KRPC\\.venv\\lib\\site-packages\\sympy\\core\\operations.py:455\u001b[0m, in \u001b[0;36m<listcomp>\u001b[1;34m(.0)\u001b[0m\n\u001b[0;32m    <a href='file:///c%3A/Users/David/Workbench/KSP-KRPC/.venv/lib/site-packages/sympy/core/operations.py?line=452'>453</a>\u001b[0m \u001b[39mdef\u001b[39;00m \u001b[39mdoit\u001b[39m(\u001b[39mself\u001b[39m, \u001b[39m*\u001b[39m\u001b[39m*\u001b[39mhints):\n\u001b[0;32m    <a href='file:///c%3A/Users/David/Workbench/KSP-KRPC/.venv/lib/site-packages/sympy/core/operations.py?line=453'>454</a>\u001b[0m     \u001b[39mif\u001b[39;00m hints\u001b[39m.\u001b[39mget(\u001b[39m'\u001b[39m\u001b[39mdeep\u001b[39m\u001b[39m'\u001b[39m, \u001b[39mTrue\u001b[39;00m):\n\u001b[1;32m--> <a href='file:///c%3A/Users/David/Workbench/KSP-KRPC/.venv/lib/site-packages/sympy/core/operations.py?line=454'>455</a>\u001b[0m         terms \u001b[39m=\u001b[39m [term\u001b[39m.\u001b[39mdoit(\u001b[39m*\u001b[39m\u001b[39m*\u001b[39mhints) \u001b[39mfor\u001b[39;00m term \u001b[39min\u001b[39;00m \u001b[39mself\u001b[39m\u001b[39m.\u001b[39margs]\n\u001b[0;32m    <a href='file:///c%3A/Users/David/Workbench/KSP-KRPC/.venv/lib/site-packages/sympy/core/operations.py?line=455'>456</a>\u001b[0m     \u001b[39melse\u001b[39;00m:\n\u001b[0;32m    <a href='file:///c%3A/Users/David/Workbench/KSP-KRPC/.venv/lib/site-packages/sympy/core/operations.py?line=456'>457</a>\u001b[0m         terms \u001b[39m=\u001b[39m \u001b[39mself\u001b[39m\u001b[39m.\u001b[39margs\n",
      "File \u001b[1;32mc:\\Users\\David\\Workbench\\KSP-KRPC\\.venv\\lib\\site-packages\\sympy\\integrals\\integrals.py:548\u001b[0m, in \u001b[0;36mIntegral.doit\u001b[1;34m(self, **hints)\u001b[0m\n\u001b[0;32m    <a href='file:///c%3A/Users/David/Workbench/KSP-KRPC/.venv/lib/site-packages/sympy/integrals/integrals.py?line=545'>546</a>\u001b[0m \u001b[39mif\u001b[39;00m \u001b[39misinstance\u001b[39m(function, Piecewise):\n\u001b[0;32m    <a href='file:///c%3A/Users/David/Workbench/KSP-KRPC/.venv/lib/site-packages/sympy/integrals/integrals.py?line=546'>547</a>\u001b[0m     \u001b[39mif\u001b[39;00m \u001b[39mlen\u001b[39m(xab) \u001b[39m==\u001b[39m \u001b[39m1\u001b[39m:\n\u001b[1;32m--> <a href='file:///c%3A/Users/David/Workbench/KSP-KRPC/.venv/lib/site-packages/sympy/integrals/integrals.py?line=547'>548</a>\u001b[0m         antideriv \u001b[39m=\u001b[39m function\u001b[39m.\u001b[39m_eval_integral(xab[\u001b[39m0\u001b[39m],\n\u001b[0;32m    <a href='file:///c%3A/Users/David/Workbench/KSP-KRPC/.venv/lib/site-packages/sympy/integrals/integrals.py?line=548'>549</a>\u001b[0m             \u001b[39m*\u001b[39m\u001b[39m*\u001b[39meval_kwargs)\n\u001b[0;32m    <a href='file:///c%3A/Users/David/Workbench/KSP-KRPC/.venv/lib/site-packages/sympy/integrals/integrals.py?line=549'>550</a>\u001b[0m     \u001b[39melse\u001b[39;00m:\n\u001b[0;32m    <a href='file:///c%3A/Users/David/Workbench/KSP-KRPC/.venv/lib/site-packages/sympy/integrals/integrals.py?line=550'>551</a>\u001b[0m         antideriv \u001b[39m=\u001b[39m \u001b[39mself\u001b[39m\u001b[39m.\u001b[39m_eval_integral(\n\u001b[0;32m    <a href='file:///c%3A/Users/David/Workbench/KSP-KRPC/.venv/lib/site-packages/sympy/integrals/integrals.py?line=551'>552</a>\u001b[0m             function, xab[\u001b[39m0\u001b[39m], \u001b[39m*\u001b[39m\u001b[39m*\u001b[39meval_kwargs)\n",
      "File \u001b[1;32mc:\\Users\\David\\Workbench\\KSP-KRPC\\.venv\\lib\\site-packages\\sympy\\functions\\elementary\\piecewise.py:516\u001b[0m, in \u001b[0;36mPiecewise._eval_integral\u001b[1;34m(self, x, _first, **kwargs)\u001b[0m\n\u001b[0;32m    <a href='file:///c%3A/Users/David/Workbench/KSP-KRPC/.venv/lib/site-packages/sympy/functions/elementary/piecewise.py?line=513'>514</a>\u001b[0m \u001b[39mif\u001b[39;00m b \u001b[39mis\u001b[39;00m S\u001b[39m.\u001b[39mInfinity:\n\u001b[0;32m    <a href='file:///c%3A/Users/David/Workbench/KSP-KRPC/.venv/lib/site-packages/sympy/functions/elementary/piecewise.py?line=514'>515</a>\u001b[0m     cond \u001b[39m=\u001b[39m \u001b[39mTrue\u001b[39;00m\n\u001b[1;32m--> <a href='file:///c%3A/Users/David/Workbench/KSP-KRPC/.venv/lib/site-packages/sympy/functions/elementary/piecewise.py?line=515'>516</a>\u001b[0m \u001b[39melif\u001b[39;00m \u001b[39mself\u001b[39;49m\u001b[39m.\u001b[39;49margs[abei[i][\u001b[39m-\u001b[39;49m\u001b[39m1\u001b[39;49m]]\u001b[39m.\u001b[39;49mcond\u001b[39m.\u001b[39;49msubs(x, b) \u001b[39m==\u001b[39m \u001b[39mFalse\u001b[39;00m:\n\u001b[0;32m    <a href='file:///c%3A/Users/David/Workbench/KSP-KRPC/.venv/lib/site-packages/sympy/functions/elementary/piecewise.py?line=516'>517</a>\u001b[0m     cond \u001b[39m=\u001b[39m (x \u001b[39m<\u001b[39m b)\n\u001b[0;32m    <a href='file:///c%3A/Users/David/Workbench/KSP-KRPC/.venv/lib/site-packages/sympy/functions/elementary/piecewise.py?line=517'>518</a>\u001b[0m \u001b[39melse\u001b[39;00m:\n",
      "File \u001b[1;32mc:\\Users\\David\\Workbench\\KSP-KRPC\\.venv\\lib\\site-packages\\sympy\\core\\basic.py:993\u001b[0m, in \u001b[0;36mBasic.subs\u001b[1;34m(self, *args, **kwargs)\u001b[0m\n\u001b[0;32m    <a href='file:///c%3A/Users/David/Workbench/KSP-KRPC/.venv/lib/site-packages/sympy/core/basic.py?line=990'>991</a>\u001b[0m rv \u001b[39m=\u001b[39m \u001b[39mself\u001b[39m\n\u001b[0;32m    <a href='file:///c%3A/Users/David/Workbench/KSP-KRPC/.venv/lib/site-packages/sympy/core/basic.py?line=991'>992</a>\u001b[0m \u001b[39mfor\u001b[39;00m old, new \u001b[39min\u001b[39;00m sequence:\n\u001b[1;32m--> <a href='file:///c%3A/Users/David/Workbench/KSP-KRPC/.venv/lib/site-packages/sympy/core/basic.py?line=992'>993</a>\u001b[0m     rv \u001b[39m=\u001b[39m rv\u001b[39m.\u001b[39m_subs(old, new, \u001b[39m*\u001b[39m\u001b[39m*\u001b[39mkwargs)\n\u001b[0;32m    <a href='file:///c%3A/Users/David/Workbench/KSP-KRPC/.venv/lib/site-packages/sympy/core/basic.py?line=993'>994</a>\u001b[0m     \u001b[39mif\u001b[39;00m \u001b[39mnot\u001b[39;00m \u001b[39misinstance\u001b[39m(rv, Basic):\n\u001b[0;32m    <a href='file:///c%3A/Users/David/Workbench/KSP-KRPC/.venv/lib/site-packages/sympy/core/basic.py?line=994'>995</a>\u001b[0m         \u001b[39mbreak\u001b[39;00m\n",
      "File \u001b[1;32mc:\\Users\\David\\Workbench\\KSP-KRPC\\.venv\\lib\\site-packages\\sympy\\core\\cache.py:70\u001b[0m, in \u001b[0;36m__cacheit.<locals>.func_wrapper.<locals>.wrapper\u001b[1;34m(*args, **kwargs)\u001b[0m\n\u001b[0;32m     <a href='file:///c%3A/Users/David/Workbench/KSP-KRPC/.venv/lib/site-packages/sympy/core/cache.py?line=66'>67</a>\u001b[0m \u001b[39m@wraps\u001b[39m(func)\n\u001b[0;32m     <a href='file:///c%3A/Users/David/Workbench/KSP-KRPC/.venv/lib/site-packages/sympy/core/cache.py?line=67'>68</a>\u001b[0m \u001b[39mdef\u001b[39;00m \u001b[39mwrapper\u001b[39m(\u001b[39m*\u001b[39margs, \u001b[39m*\u001b[39m\u001b[39m*\u001b[39mkwargs):\n\u001b[0;32m     <a href='file:///c%3A/Users/David/Workbench/KSP-KRPC/.venv/lib/site-packages/sympy/core/cache.py?line=68'>69</a>\u001b[0m     \u001b[39mtry\u001b[39;00m:\n\u001b[1;32m---> <a href='file:///c%3A/Users/David/Workbench/KSP-KRPC/.venv/lib/site-packages/sympy/core/cache.py?line=69'>70</a>\u001b[0m         retval \u001b[39m=\u001b[39m cfunc(\u001b[39m*\u001b[39margs, \u001b[39m*\u001b[39m\u001b[39m*\u001b[39mkwargs)\n\u001b[0;32m     <a href='file:///c%3A/Users/David/Workbench/KSP-KRPC/.venv/lib/site-packages/sympy/core/cache.py?line=70'>71</a>\u001b[0m     \u001b[39mexcept\u001b[39;00m \u001b[39mTypeError\u001b[39;00m \u001b[39mas\u001b[39;00m e:\n\u001b[0;32m     <a href='file:///c%3A/Users/David/Workbench/KSP-KRPC/.venv/lib/site-packages/sympy/core/cache.py?line=71'>72</a>\u001b[0m         \u001b[39mif\u001b[39;00m \u001b[39mnot\u001b[39;00m e\u001b[39m.\u001b[39margs \u001b[39mor\u001b[39;00m \u001b[39mnot\u001b[39;00m e\u001b[39m.\u001b[39margs[\u001b[39m0\u001b[39m]\u001b[39m.\u001b[39mstartswith(\u001b[39m'\u001b[39m\u001b[39munhashable type:\u001b[39m\u001b[39m'\u001b[39m):\n",
      "File \u001b[1;32mc:\\Users\\David\\Workbench\\KSP-KRPC\\.venv\\lib\\site-packages\\sympy\\core\\basic.py:1105\u001b[0m, in \u001b[0;36mBasic._subs\u001b[1;34m(self, old, new, **hints)\u001b[0m\n\u001b[0;32m   <a href='file:///c%3A/Users/David/Workbench/KSP-KRPC/.venv/lib/site-packages/sympy/core/basic.py?line=1101'>1102</a>\u001b[0m \u001b[39mif\u001b[39;00m _aresame(\u001b[39mself\u001b[39m, old):\n\u001b[0;32m   <a href='file:///c%3A/Users/David/Workbench/KSP-KRPC/.venv/lib/site-packages/sympy/core/basic.py?line=1102'>1103</a>\u001b[0m     \u001b[39mreturn\u001b[39;00m new\n\u001b[1;32m-> <a href='file:///c%3A/Users/David/Workbench/KSP-KRPC/.venv/lib/site-packages/sympy/core/basic.py?line=1104'>1105</a>\u001b[0m rv \u001b[39m=\u001b[39m \u001b[39mself\u001b[39;49m\u001b[39m.\u001b[39;49m_eval_subs(old, new)\n\u001b[0;32m   <a href='file:///c%3A/Users/David/Workbench/KSP-KRPC/.venv/lib/site-packages/sympy/core/basic.py?line=1105'>1106</a>\u001b[0m \u001b[39mif\u001b[39;00m rv \u001b[39mis\u001b[39;00m \u001b[39mNone\u001b[39;00m:\n\u001b[0;32m   <a href='file:///c%3A/Users/David/Workbench/KSP-KRPC/.venv/lib/site-packages/sympy/core/basic.py?line=1106'>1107</a>\u001b[0m     rv \u001b[39m=\u001b[39m fallback(\u001b[39mself\u001b[39m, old, new)\n",
      "File \u001b[1;32mc:\\Users\\David\\Workbench\\KSP-KRPC\\.venv\\lib\\site-packages\\sympy\\logic\\boolalg.py:639\u001b[0m, in \u001b[0;36mAnd._eval_subs\u001b[1;34m(self, old, new)\u001b[0m\n\u001b[0;32m    <a href='file:///c%3A/Users/David/Workbench/KSP-KRPC/.venv/lib/site-packages/sympy/logic/boolalg.py?line=635'>636</a>\u001b[0m         args\u001b[39m.\u001b[39mappend(i)\n\u001b[0;32m    <a href='file:///c%3A/Users/David/Workbench/KSP-KRPC/.venv/lib/site-packages/sympy/logic/boolalg.py?line=636'>637</a>\u001b[0m \u001b[39mif\u001b[39;00m bad \u001b[39mis\u001b[39;00m \u001b[39mnot\u001b[39;00m \u001b[39mNone\u001b[39;00m:\n\u001b[0;32m    <a href='file:///c%3A/Users/David/Workbench/KSP-KRPC/.venv/lib/site-packages/sympy/logic/boolalg.py?line=637'>638</a>\u001b[0m     \u001b[39m# let it raise\u001b[39;00m\n\u001b[1;32m--> <a href='file:///c%3A/Users/David/Workbench/KSP-KRPC/.venv/lib/site-packages/sympy/logic/boolalg.py?line=638'>639</a>\u001b[0m     bad\u001b[39m.\u001b[39;49msubs(old, new)\n\u001b[0;32m    <a href='file:///c%3A/Users/David/Workbench/KSP-KRPC/.venv/lib/site-packages/sympy/logic/boolalg.py?line=639'>640</a>\u001b[0m \u001b[39m# If old is And, replace the parts of the arguments with new if all\u001b[39;00m\n\u001b[0;32m    <a href='file:///c%3A/Users/David/Workbench/KSP-KRPC/.venv/lib/site-packages/sympy/logic/boolalg.py?line=640'>641</a>\u001b[0m \u001b[39m# are there\u001b[39;00m\n\u001b[0;32m    <a href='file:///c%3A/Users/David/Workbench/KSP-KRPC/.venv/lib/site-packages/sympy/logic/boolalg.py?line=641'>642</a>\u001b[0m \u001b[39mif\u001b[39;00m \u001b[39misinstance\u001b[39m(old, And):\n",
      "File \u001b[1;32mc:\\Users\\David\\Workbench\\KSP-KRPC\\.venv\\lib\\site-packages\\sympy\\core\\basic.py:993\u001b[0m, in \u001b[0;36mBasic.subs\u001b[1;34m(self, *args, **kwargs)\u001b[0m\n\u001b[0;32m    <a href='file:///c%3A/Users/David/Workbench/KSP-KRPC/.venv/lib/site-packages/sympy/core/basic.py?line=990'>991</a>\u001b[0m rv \u001b[39m=\u001b[39m \u001b[39mself\u001b[39m\n\u001b[0;32m    <a href='file:///c%3A/Users/David/Workbench/KSP-KRPC/.venv/lib/site-packages/sympy/core/basic.py?line=991'>992</a>\u001b[0m \u001b[39mfor\u001b[39;00m old, new \u001b[39min\u001b[39;00m sequence:\n\u001b[1;32m--> <a href='file:///c%3A/Users/David/Workbench/KSP-KRPC/.venv/lib/site-packages/sympy/core/basic.py?line=992'>993</a>\u001b[0m     rv \u001b[39m=\u001b[39m rv\u001b[39m.\u001b[39m_subs(old, new, \u001b[39m*\u001b[39m\u001b[39m*\u001b[39mkwargs)\n\u001b[0;32m    <a href='file:///c%3A/Users/David/Workbench/KSP-KRPC/.venv/lib/site-packages/sympy/core/basic.py?line=993'>994</a>\u001b[0m     \u001b[39mif\u001b[39;00m \u001b[39mnot\u001b[39;00m \u001b[39misinstance\u001b[39m(rv, Basic):\n\u001b[0;32m    <a href='file:///c%3A/Users/David/Workbench/KSP-KRPC/.venv/lib/site-packages/sympy/core/basic.py?line=994'>995</a>\u001b[0m         \u001b[39mbreak\u001b[39;00m\n",
      "File \u001b[1;32mc:\\Users\\David\\Workbench\\KSP-KRPC\\.venv\\lib\\site-packages\\sympy\\core\\cache.py:70\u001b[0m, in \u001b[0;36m__cacheit.<locals>.func_wrapper.<locals>.wrapper\u001b[1;34m(*args, **kwargs)\u001b[0m\n\u001b[0;32m     <a href='file:///c%3A/Users/David/Workbench/KSP-KRPC/.venv/lib/site-packages/sympy/core/cache.py?line=66'>67</a>\u001b[0m \u001b[39m@wraps\u001b[39m(func)\n\u001b[0;32m     <a href='file:///c%3A/Users/David/Workbench/KSP-KRPC/.venv/lib/site-packages/sympy/core/cache.py?line=67'>68</a>\u001b[0m \u001b[39mdef\u001b[39;00m \u001b[39mwrapper\u001b[39m(\u001b[39m*\u001b[39margs, \u001b[39m*\u001b[39m\u001b[39m*\u001b[39mkwargs):\n\u001b[0;32m     <a href='file:///c%3A/Users/David/Workbench/KSP-KRPC/.venv/lib/site-packages/sympy/core/cache.py?line=68'>69</a>\u001b[0m     \u001b[39mtry\u001b[39;00m:\n\u001b[1;32m---> <a href='file:///c%3A/Users/David/Workbench/KSP-KRPC/.venv/lib/site-packages/sympy/core/cache.py?line=69'>70</a>\u001b[0m         retval \u001b[39m=\u001b[39m cfunc(\u001b[39m*\u001b[39margs, \u001b[39m*\u001b[39m\u001b[39m*\u001b[39mkwargs)\n\u001b[0;32m     <a href='file:///c%3A/Users/David/Workbench/KSP-KRPC/.venv/lib/site-packages/sympy/core/cache.py?line=70'>71</a>\u001b[0m     \u001b[39mexcept\u001b[39;00m \u001b[39mTypeError\u001b[39;00m \u001b[39mas\u001b[39;00m e:\n\u001b[0;32m     <a href='file:///c%3A/Users/David/Workbench/KSP-KRPC/.venv/lib/site-packages/sympy/core/cache.py?line=71'>72</a>\u001b[0m         \u001b[39mif\u001b[39;00m \u001b[39mnot\u001b[39;00m e\u001b[39m.\u001b[39margs \u001b[39mor\u001b[39;00m \u001b[39mnot\u001b[39;00m e\u001b[39m.\u001b[39margs[\u001b[39m0\u001b[39m]\u001b[39m.\u001b[39mstartswith(\u001b[39m'\u001b[39m\u001b[39munhashable type:\u001b[39m\u001b[39m'\u001b[39m):\n",
      "File \u001b[1;32mc:\\Users\\David\\Workbench\\KSP-KRPC\\.venv\\lib\\site-packages\\sympy\\core\\basic.py:1107\u001b[0m, in \u001b[0;36mBasic._subs\u001b[1;34m(self, old, new, **hints)\u001b[0m\n\u001b[0;32m   <a href='file:///c%3A/Users/David/Workbench/KSP-KRPC/.venv/lib/site-packages/sympy/core/basic.py?line=1104'>1105</a>\u001b[0m rv \u001b[39m=\u001b[39m \u001b[39mself\u001b[39m\u001b[39m.\u001b[39m_eval_subs(old, new)\n\u001b[0;32m   <a href='file:///c%3A/Users/David/Workbench/KSP-KRPC/.venv/lib/site-packages/sympy/core/basic.py?line=1105'>1106</a>\u001b[0m \u001b[39mif\u001b[39;00m rv \u001b[39mis\u001b[39;00m \u001b[39mNone\u001b[39;00m:\n\u001b[1;32m-> <a href='file:///c%3A/Users/David/Workbench/KSP-KRPC/.venv/lib/site-packages/sympy/core/basic.py?line=1106'>1107</a>\u001b[0m     rv \u001b[39m=\u001b[39m fallback(\u001b[39mself\u001b[39;49m, old, new)\n\u001b[0;32m   <a href='file:///c%3A/Users/David/Workbench/KSP-KRPC/.venv/lib/site-packages/sympy/core/basic.py?line=1107'>1108</a>\u001b[0m \u001b[39mreturn\u001b[39;00m rv\n",
      "File \u001b[1;32mc:\\Users\\David\\Workbench\\KSP-KRPC\\.venv\\lib\\site-packages\\sympy\\core\\basic.py:1084\u001b[0m, in \u001b[0;36mBasic._subs.<locals>.fallback\u001b[1;34m(self, old, new)\u001b[0m\n\u001b[0;32m   <a href='file:///c%3A/Users/David/Workbench/KSP-KRPC/.venv/lib/site-packages/sympy/core/basic.py?line=1081'>1082</a>\u001b[0m         args[i] \u001b[39m=\u001b[39m arg\n\u001b[0;32m   <a href='file:///c%3A/Users/David/Workbench/KSP-KRPC/.venv/lib/site-packages/sympy/core/basic.py?line=1082'>1083</a>\u001b[0m \u001b[39mif\u001b[39;00m hit:\n\u001b[1;32m-> <a href='file:///c%3A/Users/David/Workbench/KSP-KRPC/.venv/lib/site-packages/sympy/core/basic.py?line=1083'>1084</a>\u001b[0m     rv \u001b[39m=\u001b[39m \u001b[39mself\u001b[39;49m\u001b[39m.\u001b[39;49mfunc(\u001b[39m*\u001b[39;49margs)\n\u001b[0;32m   <a href='file:///c%3A/Users/David/Workbench/KSP-KRPC/.venv/lib/site-packages/sympy/core/basic.py?line=1084'>1085</a>\u001b[0m     hack2 \u001b[39m=\u001b[39m hints\u001b[39m.\u001b[39mget(\u001b[39m'\u001b[39m\u001b[39mhack2\u001b[39m\u001b[39m'\u001b[39m, \u001b[39mFalse\u001b[39;00m)\n\u001b[0;32m   <a href='file:///c%3A/Users/David/Workbench/KSP-KRPC/.venv/lib/site-packages/sympy/core/basic.py?line=1085'>1086</a>\u001b[0m     \u001b[39mif\u001b[39;00m hack2 \u001b[39mand\u001b[39;00m \u001b[39mself\u001b[39m\u001b[39m.\u001b[39mis_Mul \u001b[39mand\u001b[39;00m \u001b[39mnot\u001b[39;00m rv\u001b[39m.\u001b[39mis_Mul:  \u001b[39m# 2-arg hack\u001b[39;00m\n",
      "File \u001b[1;32mc:\\Users\\David\\Workbench\\KSP-KRPC\\.venv\\lib\\site-packages\\sympy\\core\\relational.py:834\u001b[0m, in \u001b[0;36m_Inequality.__new__\u001b[1;34m(cls, lhs, rhs, **options)\u001b[0m\n\u001b[0;32m    <a href='file:///c%3A/Users/David/Workbench/KSP-KRPC/.venv/lib/site-packages/sympy/core/relational.py?line=831'>832</a>\u001b[0m \u001b[39mfor\u001b[39;00m me \u001b[39min\u001b[39;00m (lhs, rhs):\n\u001b[0;32m    <a href='file:///c%3A/Users/David/Workbench/KSP-KRPC/.venv/lib/site-packages/sympy/core/relational.py?line=832'>833</a>\u001b[0m     \u001b[39mif\u001b[39;00m me\u001b[39m.\u001b[39mis_extended_real \u001b[39mis\u001b[39;00m \u001b[39mFalse\u001b[39;00m:\n\u001b[1;32m--> <a href='file:///c%3A/Users/David/Workbench/KSP-KRPC/.venv/lib/site-packages/sympy/core/relational.py?line=833'>834</a>\u001b[0m         \u001b[39mraise\u001b[39;00m \u001b[39mTypeError\u001b[39;00m(\u001b[39m\"\u001b[39m\u001b[39mInvalid comparison of non-real \u001b[39m\u001b[39m%s\u001b[39;00m\u001b[39m\"\u001b[39m \u001b[39m%\u001b[39m me)\n\u001b[0;32m    <a href='file:///c%3A/Users/David/Workbench/KSP-KRPC/.venv/lib/site-packages/sympy/core/relational.py?line=834'>835</a>\u001b[0m     \u001b[39mif\u001b[39;00m me \u001b[39mis\u001b[39;00m S\u001b[39m.\u001b[39mNaN:\n\u001b[0;32m    <a href='file:///c%3A/Users/David/Workbench/KSP-KRPC/.venv/lib/site-packages/sympy/core/relational.py?line=835'>836</a>\u001b[0m         \u001b[39mraise\u001b[39;00m \u001b[39mTypeError\u001b[39;00m(\u001b[39m\"\u001b[39m\u001b[39mInvalid NaN comparison\u001b[39m\u001b[39m\"\u001b[39m)\n",
      "\u001b[1;31mTypeError\u001b[0m: Invalid comparison of non-real zoo"
     ]
    }
   ],
   "source": [
    "params_2 = {\n",
    "    F_t: 10,\n",
    "    b: 0.1,\n",
    "    g: 9.81,\n",
    "    m_0: 1,\n",
    "    gamma: 0.1,\n",
    "    x_0: 0,\n",
    "    v_0: 0,\n",
    "    F_t.subs(t, \"_0\"): 10,\n",
    "}\n",
    "model_2_soln_eval = model_2_soln.subs(params_2).doit()\n",
    "\n",
    "print(params_2)\n",
    "display(model_2_soln_eval)"
   ]
  },
  {
   "cell_type": "code",
   "execution_count": null,
   "metadata": {},
   "outputs": [
    {
     "name": "stdout",
     "output_type": "stream",
     "text": [
      "Eq(x(t), 1.89999999999999*t - 18.9999999999999 + 18.9999999999999*exp(-0.1*t))\n"
     ]
    }
   ],
   "source": [
    "print(model_2_soln_eval)"
   ]
  },
  {
   "cell_type": "code",
   "execution_count": null,
   "metadata": {},
   "outputs": [
    {
     "data": {
      "image/png": "[encoded data removed]",
      "text/plain": [
       "<Figure size 432x288 with 1 Axes>"
      ]
     },
     "metadata": {
      "needs_background": "light"
     },
     "output_type": "display_data"
    },
    {
     "data": {
      "text/plain": [
       "<sympy.plotting.plot.Plot at 0x1f53ee00550>"
      ]
     },
     "execution_count": 31,
     "metadata": {},
     "output_type": "execute_result"
    }
   ],
   "source": [
    "sy.plotting.plot(\n",
    "    model_2_soln_eval.rhs,\n",
    "    (t, 0, 10),\n",
    "    title=\"Altitude over time for constant mass\",\n",
    "    xlabel=\"$t$\",\n",
    "    ylabel=\"$x(t)$\",\n",
    ")"
   ]
  }
 ],
 "metadata": {
  "interpreter": {
   "hash": "b63be74dc3575cd224d73a5c7052779a94f5fd022fe919d1b214ef11964dfb48"
  },
  "kernelspec": {
   "display_name": "Python 3.10.4 ('.venv': poetry)",
   "language": "python",
   "name": "python3"
  },
  "language_info": {
   "codemirror_mode": {
    "name": "ipython",
    "version": 3
   },
   "file_extension": ".py",
   "mimetype": "text/x-python",
   "name": "python",
   "nbconvert_exporter": "python",
   "pygments_lexer": "ipython3",
   "version": "3.10.4"
  },
  "orig_nbformat": 4
 },
 "nbformat": 4,
 "nbformat_minor": 2
}
